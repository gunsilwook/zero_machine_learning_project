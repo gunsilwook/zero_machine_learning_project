{
 "cells": [
  {
   "cell_type": "markdown",
   "metadata": {},
   "source": [
    "Python 3.8.19"
   ]
  },
  {
   "cell_type": "markdown",
   "metadata": {},
   "source": [
    "### 데이터 준비"
   ]
  },
  {
   "cell_type": "code",
   "execution_count": 1,
   "metadata": {},
   "outputs": [],
   "source": [
    "import pandas as pd\n",
    "import numpy as np\n",
    "import matplotlib.pyplot as plt\n",
    "import seaborn as sns\n",
    "from matplotlib import font_manager, rc\n",
    "\n",
    "import warnings\n",
    "warnings.filterwarnings(action='ignore')\n",
    "from konlpy.tag import Kkma\n",
    "import re \n",
    "from gensim import corpora\n",
    "import gensim\n",
    "from collections import Counter"
   ]
  },
  {
   "cell_type": "code",
   "execution_count": 2,
   "metadata": {},
   "outputs": [
    {
     "data": {
      "text/html": [
       "<div>\n",
       "<style scoped>\n",
       "    .dataframe tbody tr th:only-of-type {\n",
       "        vertical-align: middle;\n",
       "    }\n",
       "\n",
       "    .dataframe tbody tr th {\n",
       "        vertical-align: top;\n",
       "    }\n",
       "\n",
       "    .dataframe thead th {\n",
       "        text-align: right;\n",
       "    }\n",
       "</style>\n",
       "<table border=\"1\" class=\"dataframe\">\n",
       "  <thead>\n",
       "    <tr style=\"text-align: right;\">\n",
       "      <th></th>\n",
       "      <th>name</th>\n",
       "      <th>date</th>\n",
       "      <th>product</th>\n",
       "      <th>detail</th>\n",
       "      <th>score</th>\n",
       "      <th>review</th>\n",
       "      <th>help_cnt</th>\n",
       "      <th>style_cnt</th>\n",
       "      <th>type</th>\n",
       "      <th>category</th>\n",
       "      <th>sex</th>\n",
       "      <th>price</th>\n",
       "      <th>tag</th>\n",
       "    </tr>\n",
       "  </thead>\n",
       "  <tbody>\n",
       "    <tr>\n",
       "      <th>0</th>\n",
       "      <td>LV.5 oct21</td>\n",
       "      <td>2023.07.30</td>\n",
       "      <td>노트 스트링 플랫폼 샌들(남여공용)[n5212]</td>\n",
       "      <td>women/black/235mm</td>\n",
       "      <td>5.0</td>\n",
       "      <td>푹신푹신해서 오래신어두 발 안아프고 좋으네용 어느 코디에든 휘뚤마뚤 신을 수 있어서...</td>\n",
       "      <td>2</td>\n",
       "      <td>4.0</td>\n",
       "      <td>style</td>\n",
       "      <td>샌들</td>\n",
       "      <td>남성, 여성</td>\n",
       "      <td>89000</td>\n",
       "      <td>사이즈-보통이에요, 밝기-보통이에요, 색감-보통이에요, 발볼-보통이에요, 착화감-편...</td>\n",
       "    </tr>\n",
       "    <tr>\n",
       "      <th>1</th>\n",
       "      <td>LV.4 교쟈만듀</td>\n",
       "      <td>2023.06.14</td>\n",
       "      <td>노트 스트링 플랫폼 샌들(남여공용)[n5212]</td>\n",
       "      <td>women/cream/245mm</td>\n",
       "      <td>5.0</td>\n",
       "      <td>치마 원피스 바지에 무난하게 잘 어울려서 코디 하기 좋아요! 그리고 신고 벗기가 편...</td>\n",
       "      <td>4</td>\n",
       "      <td>2.0</td>\n",
       "      <td>style</td>\n",
       "      <td>샌들</td>\n",
       "      <td>남성, 여성</td>\n",
       "      <td>89000</td>\n",
       "      <td>사이즈-보통이에요, 밝기-보통이에요, 색감-선명해요, 발볼-넓어요, 착화감-편안해요...</td>\n",
       "    </tr>\n",
       "    <tr>\n",
       "      <th>2</th>\n",
       "      <td>LV.5 Trust_m</td>\n",
       "      <td>2023.06.24</td>\n",
       "      <td>노트 스트링 플랫폼 샌들(남여공용)[n5212]</td>\n",
       "      <td>women/black/250mm</td>\n",
       "      <td>5.0</td>\n",
       "      <td>유니크하구 편안해보여서 구매했는데 역시 딱 좋습니다! 오래 신을 거 같아요! 정사이...</td>\n",
       "      <td>2</td>\n",
       "      <td>3.0</td>\n",
       "      <td>style</td>\n",
       "      <td>샌들</td>\n",
       "      <td>남성, 여성</td>\n",
       "      <td>89000</td>\n",
       "      <td>사이즈-보통이에요, 밝기-보통이에요, 색감-보통이에요, 발볼-보통이에요, 착화감-적...</td>\n",
       "    </tr>\n",
       "    <tr>\n",
       "      <th>3</th>\n",
       "      <td>LV.5 닝낭농낭</td>\n",
       "      <td>2023.07.27</td>\n",
       "      <td>노트 스트링 플랫폼 샌들(남여공용)[n5212]</td>\n",
       "      <td>men/black/275mm</td>\n",
       "      <td>4.0</td>\n",
       "      <td>일단 생긴게 유니크하고 이뻐서 여름에 자주 신을 것 같습니다. 굽도 꽤 있어서 키높...</td>\n",
       "      <td>2</td>\n",
       "      <td>2.0</td>\n",
       "      <td>style</td>\n",
       "      <td>샌들</td>\n",
       "      <td>남성, 여성</td>\n",
       "      <td>89000</td>\n",
       "      <td>사이즈-보통이에요, 밝기-어두워요, 색감-보통이에요, 발볼-보통이에요, 착화감-적당...</td>\n",
       "    </tr>\n",
       "    <tr>\n",
       "      <th>4</th>\n",
       "      <td>LV.3 웅스젱</td>\n",
       "      <td>2023.11.15</td>\n",
       "      <td>노트 스트링 플랫폼 샌들(남여공용)[n5212]</td>\n",
       "      <td>women/black/240mm</td>\n",
       "      <td>5.0</td>\n",
       "      <td>좋아욥!! 궈여워요~~ 그치만 발에 땀이 나면 곤란해요,,</td>\n",
       "      <td>2</td>\n",
       "      <td>1.0</td>\n",
       "      <td>style</td>\n",
       "      <td>샌들</td>\n",
       "      <td>남성, 여성</td>\n",
       "      <td>89000</td>\n",
       "      <td>사이즈-보통이에요, 밝기-보통이에요, 색감-보통이에요, 발볼-보통이에요, 착화감-적...</td>\n",
       "    </tr>\n",
       "    <tr>\n",
       "      <th>...</th>\n",
       "      <td>...</td>\n",
       "      <td>...</td>\n",
       "      <td>...</td>\n",
       "      <td>...</td>\n",
       "      <td>...</td>\n",
       "      <td>...</td>\n",
       "      <td>...</td>\n",
       "      <td>...</td>\n",
       "      <td>...</td>\n",
       "      <td>...</td>\n",
       "      <td>...</td>\n",
       "      <td>...</td>\n",
       "      <td>...</td>\n",
       "    </tr>\n",
       "    <tr>\n",
       "      <th>169729</th>\n",
       "      <td>LV.3 장마엔청색롱패딩</td>\n",
       "      <td>2022.08.17</td>\n",
       "      <td>ORIGINAL 1910 첼시부츠_스틸그레이</td>\n",
       "      <td>AU7 255~260</td>\n",
       "      <td>5.0</td>\n",
       "      <td>편하고 가벼운 챌시부츠여서 여기저기 잘 신을 거 같아요</td>\n",
       "      <td>0</td>\n",
       "      <td>NaN</td>\n",
       "      <td>general</td>\n",
       "      <td>부츠</td>\n",
       "      <td>남성, 여성</td>\n",
       "      <td>269000</td>\n",
       "      <td>사이즈-보통이에요, 밝기-보통이에요, 색감-보통이에요, 발볼-넓어요, 착화감-편안해...</td>\n",
       "    </tr>\n",
       "    <tr>\n",
       "      <th>169730</th>\n",
       "      <td>LV.5 IluvMe2</td>\n",
       "      <td>2022.07.22</td>\n",
       "      <td>ORIGINAL 1910 첼시부츠_스틸그레이</td>\n",
       "      <td>AU6 250</td>\n",
       "      <td>5.0</td>\n",
       "      <td>정말 부츠중에는 최고 탑에 있다 겉과 속이 알찬 멜론 느낌이랄까? =* *=</td>\n",
       "      <td>0</td>\n",
       "      <td>NaN</td>\n",
       "      <td>general</td>\n",
       "      <td>부츠</td>\n",
       "      <td>남성, 여성</td>\n",
       "      <td>269000</td>\n",
       "      <td>사이즈-보통이에요, 밝기-보통이에요, 색감-보통이에요, 발볼-보통이에요, 착화감-편...</td>\n",
       "    </tr>\n",
       "    <tr>\n",
       "      <th>169731</th>\n",
       "      <td>LV.5 semsemP</td>\n",
       "      <td>2022.06.15</td>\n",
       "      <td>ORIGINAL 1910 첼시부츠_스틸그레이</td>\n",
       "      <td>AU5 245</td>\n",
       "      <td>5.0</td>\n",
       "      <td>맘에들어요. 정사이즈구매했는데 넉넉한 편이에요. 먹색에 가까워요.</td>\n",
       "      <td>0</td>\n",
       "      <td>NaN</td>\n",
       "      <td>general</td>\n",
       "      <td>부츠</td>\n",
       "      <td>남성, 여성</td>\n",
       "      <td>269000</td>\n",
       "      <td>사이즈-커요, 밝기-어두워요, 색감-보통이에요, 발볼-넓어요, 착화감-편안해요, 무...</td>\n",
       "    </tr>\n",
       "    <tr>\n",
       "      <th>169732</th>\n",
       "      <td>LV.5 박거북임</td>\n",
       "      <td>2022.02.06</td>\n",
       "      <td>ORIGINAL 1910 첼시부츠_스틸그레이</td>\n",
       "      <td>AU8 265~270</td>\n",
       "      <td>5.0</td>\n",
       "      <td>시간이 많이 지났지만 잘신고 있습니다 일단 너무 편하고 다른색상으로도 구매할 예정입니다</td>\n",
       "      <td>0</td>\n",
       "      <td>NaN</td>\n",
       "      <td>general</td>\n",
       "      <td>부츠</td>\n",
       "      <td>남성, 여성</td>\n",
       "      <td>269000</td>\n",
       "      <td>사이즈-보통이에요, 밝기-보통이에요, 색감-보통이에요, 발볼-보통이에요, 착화감-적...</td>\n",
       "    </tr>\n",
       "    <tr>\n",
       "      <th>169733</th>\n",
       "      <td>LV.5 나쁘지않다</td>\n",
       "      <td>2021.11.05</td>\n",
       "      <td>ORIGINAL 1910 첼시부츠_스틸그레이</td>\n",
       "      <td>AU9 275</td>\n",
       "      <td>5.0</td>\n",
       "      <td>배송 정말 빠르고 상품 완전 만족 합니다. 이거 망가지면 바로 또 살거 같아요</td>\n",
       "      <td>0</td>\n",
       "      <td>NaN</td>\n",
       "      <td>general</td>\n",
       "      <td>부츠</td>\n",
       "      <td>남성, 여성</td>\n",
       "      <td>269000</td>\n",
       "      <td>사이즈-보통이에요, 밝기-보통이에요, 색감-선명해요, 발볼-보통이에요, 착화감-편안...</td>\n",
       "    </tr>\n",
       "  </tbody>\n",
       "</table>\n",
       "<p>169734 rows × 13 columns</p>\n",
       "</div>"
      ],
      "text/plain": [
       "                 name        date                     product  \\\n",
       "0          LV.5 oct21  2023.07.30  노트 스트링 플랫폼 샌들(남여공용)[n5212]   \n",
       "1           LV.4 교쟈만듀  2023.06.14  노트 스트링 플랫폼 샌들(남여공용)[n5212]   \n",
       "2        LV.5 Trust_m  2023.06.24  노트 스트링 플랫폼 샌들(남여공용)[n5212]   \n",
       "3           LV.5 닝낭농낭  2023.07.27  노트 스트링 플랫폼 샌들(남여공용)[n5212]   \n",
       "4            LV.3 웅스젱  2023.11.15  노트 스트링 플랫폼 샌들(남여공용)[n5212]   \n",
       "...               ...         ...                         ...   \n",
       "169729  LV.3 장마엔청색롱패딩  2022.08.17    ORIGINAL 1910 첼시부츠_스틸그레이   \n",
       "169730   LV.5 IluvMe2  2022.07.22    ORIGINAL 1910 첼시부츠_스틸그레이   \n",
       "169731   LV.5 semsemP  2022.06.15    ORIGINAL 1910 첼시부츠_스틸그레이   \n",
       "169732      LV.5 박거북임  2022.02.06    ORIGINAL 1910 첼시부츠_스틸그레이   \n",
       "169733     LV.5 나쁘지않다  2021.11.05    ORIGINAL 1910 첼시부츠_스틸그레이   \n",
       "\n",
       "                   detail  score  \\\n",
       "0       women/black/235mm    5.0   \n",
       "1       women/cream/245mm    5.0   \n",
       "2       women/black/250mm    5.0   \n",
       "3         men/black/275mm    4.0   \n",
       "4       women/black/240mm    5.0   \n",
       "...                   ...    ...   \n",
       "169729        AU7 255~260    5.0   \n",
       "169730            AU6 250    5.0   \n",
       "169731            AU5 245    5.0   \n",
       "169732        AU8 265~270    5.0   \n",
       "169733            AU9 275    5.0   \n",
       "\n",
       "                                                   review  help_cnt  \\\n",
       "0       푹신푹신해서 오래신어두 발 안아프고 좋으네용 어느 코디에든 휘뚤마뚤 신을 수 있어서...         2   \n",
       "1       치마 원피스 바지에 무난하게 잘 어울려서 코디 하기 좋아요! 그리고 신고 벗기가 편...         4   \n",
       "2       유니크하구 편안해보여서 구매했는데 역시 딱 좋습니다! 오래 신을 거 같아요! 정사이...         2   \n",
       "3       일단 생긴게 유니크하고 이뻐서 여름에 자주 신을 것 같습니다. 굽도 꽤 있어서 키높...         2   \n",
       "4                        좋아욥!! 궈여워요~~ 그치만 발에 땀이 나면 곤란해요,,         2   \n",
       "...                                                   ...       ...   \n",
       "169729                     편하고 가벼운 챌시부츠여서 여기저기 잘 신을 거 같아요         0   \n",
       "169730         정말 부츠중에는 최고 탑에 있다 겉과 속이 알찬 멜론 느낌이랄까? =* *=         0   \n",
       "169731               맘에들어요. 정사이즈구매했는데 넉넉한 편이에요. 먹색에 가까워요.         0   \n",
       "169732   시간이 많이 지났지만 잘신고 있습니다 일단 너무 편하고 다른색상으로도 구매할 예정입니다         0   \n",
       "169733        배송 정말 빠르고 상품 완전 만족 합니다. 이거 망가지면 바로 또 살거 같아요         0   \n",
       "\n",
       "        style_cnt      type category     sex   price  \\\n",
       "0             4.0     style       샌들  남성, 여성   89000   \n",
       "1             2.0     style       샌들  남성, 여성   89000   \n",
       "2             3.0     style       샌들  남성, 여성   89000   \n",
       "3             2.0     style       샌들  남성, 여성   89000   \n",
       "4             1.0     style       샌들  남성, 여성   89000   \n",
       "...           ...       ...      ...     ...     ...   \n",
       "169729        NaN  general        부츠  남성, 여성  269000   \n",
       "169730        NaN  general        부츠  남성, 여성  269000   \n",
       "169731        NaN  general        부츠  남성, 여성  269000   \n",
       "169732        NaN  general        부츠  남성, 여성  269000   \n",
       "169733        NaN  general        부츠  남성, 여성  269000   \n",
       "\n",
       "                                                      tag  \n",
       "0       사이즈-보통이에요, 밝기-보통이에요, 색감-보통이에요, 발볼-보통이에요, 착화감-편...  \n",
       "1       사이즈-보통이에요, 밝기-보통이에요, 색감-선명해요, 발볼-넓어요, 착화감-편안해요...  \n",
       "2       사이즈-보통이에요, 밝기-보통이에요, 색감-보통이에요, 발볼-보통이에요, 착화감-적...  \n",
       "3       사이즈-보통이에요, 밝기-어두워요, 색감-보통이에요, 발볼-보통이에요, 착화감-적당...  \n",
       "4       사이즈-보통이에요, 밝기-보통이에요, 색감-보통이에요, 발볼-보통이에요, 착화감-적...  \n",
       "...                                                   ...  \n",
       "169729  사이즈-보통이에요, 밝기-보통이에요, 색감-보통이에요, 발볼-넓어요, 착화감-편안해...  \n",
       "169730  사이즈-보통이에요, 밝기-보통이에요, 색감-보통이에요, 발볼-보통이에요, 착화감-편...  \n",
       "169731  사이즈-커요, 밝기-어두워요, 색감-보통이에요, 발볼-넓어요, 착화감-편안해요, 무...  \n",
       "169732  사이즈-보통이에요, 밝기-보통이에요, 색감-보통이에요, 발볼-보통이에요, 착화감-적...  \n",
       "169733  사이즈-보통이에요, 밝기-보통이에요, 색감-선명해요, 발볼-보통이에요, 착화감-편안...  \n",
       "\n",
       "[169734 rows x 13 columns]"
      ]
     },
     "execution_count": 2,
     "metadata": {},
     "output_type": "execute_result"
    }
   ],
   "source": [
    "data1 = pd.read_csv('../data/review_page1.csv', encoding='utf-16').iloc[:, 1:]\n",
    "data2 = pd.read_csv('../data/review_page2.csv')\n",
    "data3 = pd.read_csv('../data/review_page3.csv').iloc[:, 2:]\n",
    "data4 = pd.read_csv('../data/review_page4.csv').iloc[:, 1:]\n",
    "data5 = pd.read_csv('../data/review_page5.csv').iloc[:, 1:]\n",
    "\n",
    "data = pd.concat([data1, data2, data3, data4, data5]).reset_index(drop=True)\n",
    "data['review'] = data['review'].str.replace('\\n', ' ')\n",
    "data.to_csv('review_page_total.csv', encoding='utf-8-sig')\n",
    "\n",
    "data = pd.read_csv('review_page_total.csv', encoding='utf-8-sig', index_col=0)\n",
    "data"
   ]
  },
  {
   "cell_type": "code",
   "execution_count": 3,
   "metadata": {},
   "outputs": [
    {
     "name": "stdout",
     "output_type": "stream",
     "text": [
      "<class 'pandas.core.frame.DataFrame'>\n",
      "Int64Index: 169734 entries, 0 to 169733\n",
      "Data columns (total 13 columns):\n",
      " #   Column     Non-Null Count   Dtype  \n",
      "---  ------     --------------   -----  \n",
      " 0   name       169734 non-null  object \n",
      " 1   date       169734 non-null  object \n",
      " 2   product    169734 non-null  object \n",
      " 3   detail     169734 non-null  object \n",
      " 4   score      169734 non-null  float64\n",
      " 5   review     169734 non-null  object \n",
      " 6   help_cnt   169734 non-null  int64  \n",
      " 7   style_cnt  31839 non-null   float64\n",
      " 8   type       169734 non-null  object \n",
      " 9   category   169734 non-null  object \n",
      " 10  sex        169734 non-null  object \n",
      " 11  price      169734 non-null  int64  \n",
      " 12  tag        169734 non-null  object \n",
      "dtypes: float64(2), int64(2), object(9)\n",
      "memory usage: 18.1+ MB\n"
     ]
    }
   ],
   "source": [
    "data.info()"
   ]
  },
  {
   "cell_type": "code",
   "execution_count": 4,
   "metadata": {},
   "outputs": [
    {
     "data": {
      "text/plain": [
       "array(['style', 'product', 'general ', 'general'], dtype=object)"
      ]
     },
     "execution_count": 4,
     "metadata": {},
     "output_type": "execute_result"
    }
   ],
   "source": [
    "data['type'].unique()"
   ]
  },
  {
   "cell_type": "code",
   "execution_count": 5,
   "metadata": {},
   "outputs": [],
   "source": [
    "data['type'] = data['type'].str.strip()"
   ]
  },
  {
   "cell_type": "markdown",
   "metadata": {},
   "source": [
    "### EDA"
   ]
  },
  {
   "cell_type": "markdown",
   "metadata": {},
   "source": [
    "- 전체 리뷰 중 각 평점별 비중"
   ]
  },
  {
   "cell_type": "code",
   "execution_count": 6,
   "metadata": {},
   "outputs": [
    {
     "data": {
      "text/plain": [
       "<Axes: xlabel='score', ylabel='count'>"
      ]
     },
     "execution_count": 6,
     "metadata": {},
     "output_type": "execute_result"
    },
    {
     "data": {
      "image/png": "[encoded data removed]",
      "text/plain": [
       "<Figure size 640x480 with 1 Axes>"
      ]
     },
     "metadata": {},
     "output_type": "display_data"
    }
   ],
   "source": [
    "sns.set_style('darkgrid')\n",
    "sns.countplot(x=data['score'])"
   ]
  },
  {
   "cell_type": "markdown",
   "metadata": {},
   "source": [
    "- 평점을 성별 카테고리로 나누어 비교"
   ]
  },
  {
   "cell_type": "code",
   "execution_count": 7,
   "metadata": {},
   "outputs": [],
   "source": [
    "score1 = data[data['score'] >= 4]\n",
    "score2 = data[data['score'] < 4]"
   ]
  },
  {
   "cell_type": "code",
   "execution_count": 8,
   "metadata": {},
   "outputs": [
    {
     "data": {
      "image/png": "[encoded data removed]",
      "text/plain": [
       "<Figure size 1200x600 with 2 Axes>"
      ]
     },
     "metadata": {},
     "output_type": "display_data"
    }
   ],
   "source": [
    "fig, ax = plt.subplots(ncols=2, figsize=(12,6))\n",
    "sns.set(font=\"Malgun Gothic\", \n",
    "rc={\"axes.unicode_minus\":False}, style='darkgrid')\n",
    "\n",
    "sns.countplot(x=score1['score'], hue=score1['sex'], ax=ax[0])\n",
    "sns.countplot(x=score2['score'], hue=score2['sex'], ax=ax[1])\n",
    "plt.show()"
   ]
  },
  {
   "cell_type": "markdown",
   "metadata": {},
   "source": [
    "- 후기 종류별 평점 비교"
   ]
  },
  {
   "cell_type": "code",
   "execution_count": 9,
   "metadata": {},
   "outputs": [
    {
     "data": {
      "image/png": "[encoded data removed]",
      "text/plain": [
       "<Figure size 1200x600 with 2 Axes>"
      ]
     },
     "metadata": {},
     "output_type": "display_data"
    }
   ],
   "source": [
    "fig, ax = plt.subplots(ncols=2, figsize=(12,6))\n",
    "sns.set(style='darkgrid')\n",
    "\n",
    "sns.countplot(x=score1['score'], hue=score1['type'], ax=ax[0])\n",
    "sns.countplot(x=score2['score'], hue=score2['type'], ax=ax[1])\n",
    "plt.show()"
   ]
  },
  {
   "cell_type": "markdown",
   "metadata": {},
   "source": [
    "- 평점, 가격, '도움됨'을 받은 수, '스타일 좋아요'를 받은 수의 상관관계"
   ]
  },
  {
   "cell_type": "code",
   "execution_count": 10,
   "metadata": {},
   "outputs": [
    {
     "data": {
      "text/html": [
       "<div>\n",
       "<style scoped>\n",
       "    .dataframe tbody tr th:only-of-type {\n",
       "        vertical-align: middle;\n",
       "    }\n",
       "\n",
       "    .dataframe tbody tr th {\n",
       "        vertical-align: top;\n",
       "    }\n",
       "\n",
       "    .dataframe thead th {\n",
       "        text-align: right;\n",
       "    }\n",
       "</style>\n",
       "<table border=\"1\" class=\"dataframe\">\n",
       "  <thead>\n",
       "    <tr style=\"text-align: right;\">\n",
       "      <th></th>\n",
       "      <th>score</th>\n",
       "      <th>price</th>\n",
       "      <th>help_cnt</th>\n",
       "      <th>style_cnt</th>\n",
       "    </tr>\n",
       "  </thead>\n",
       "  <tbody>\n",
       "    <tr>\n",
       "      <th>score</th>\n",
       "      <td>1.000000</td>\n",
       "      <td>0.035206</td>\n",
       "      <td>-0.052671</td>\n",
       "      <td>0.004731</td>\n",
       "    </tr>\n",
       "    <tr>\n",
       "      <th>price</th>\n",
       "      <td>0.035206</td>\n",
       "      <td>1.000000</td>\n",
       "      <td>0.018575</td>\n",
       "      <td>0.041105</td>\n",
       "    </tr>\n",
       "    <tr>\n",
       "      <th>help_cnt</th>\n",
       "      <td>-0.052671</td>\n",
       "      <td>0.018575</td>\n",
       "      <td>1.000000</td>\n",
       "      <td>0.485207</td>\n",
       "    </tr>\n",
       "    <tr>\n",
       "      <th>style_cnt</th>\n",
       "      <td>0.004731</td>\n",
       "      <td>0.041105</td>\n",
       "      <td>0.485207</td>\n",
       "      <td>1.000000</td>\n",
       "    </tr>\n",
       "  </tbody>\n",
       "</table>\n",
       "</div>"
      ],
      "text/plain": [
       "              score     price  help_cnt  style_cnt\n",
       "score      1.000000  0.035206 -0.052671   0.004731\n",
       "price      0.035206  1.000000  0.018575   0.041105\n",
       "help_cnt  -0.052671  0.018575  1.000000   0.485207\n",
       "style_cnt  0.004731  0.041105  0.485207   1.000000"
      ]
     },
     "execution_count": 10,
     "metadata": {},
     "output_type": "execute_result"
    }
   ],
   "source": [
    "data[['score', 'price', 'help_cnt', 'style_cnt']].corr()"
   ]
  },
  {
   "cell_type": "code",
   "execution_count": 11,
   "metadata": {},
   "outputs": [
    {
     "data": {
      "image/png": "[encoded data removed]",
      "text/plain": [
       "<Figure size 640x480 with 2 Axes>"
      ]
     },
     "metadata": {},
     "output_type": "display_data"
    }
   ],
   "source": [
    "df = data[['score', 'price', 'help_cnt', 'style_cnt']].corr()\n",
    "\n",
    "sns.heatmap(df, \n",
    "            cmap = 'RdYlBu_r', \n",
    "            annot = True,\n",
    "            linewidths=.5,\n",
    "            cbar_kws={\"shrink\": .5},\n",
    "            vmin = -1, vmax = 1\n",
    "           )  \n",
    "plt.show()"
   ]
  },
  {
   "cell_type": "markdown",
   "metadata": {},
   "source": [
    "- 전체 리뷰 169734건 중 평점이 5점인 데이터가 143446건으로 데이터의 대다수를 차지한다.\n",
    "- 대체로 남녀공용 상품의 리뷰가 가장 많으며, 여성용 신발, 남성용 신발 순으로 많다.\n",
    "- 제품 카테고리에서는 부츠, 슬리퍼, 샌들, 구두 순으로 리뷰가 많다.\n",
    "- 리뷰 중 상품 후기가 스타일 후기보다 많다.\n",
    "- 가격과 평점 사이에 뚜렷한 상관관계는 없는 것으로 나타났다.\n",
    "- 리뷰 텍스트를 심층 분석해서 리뷰 평점에 영향을 미치는 요소들을 확인해야 할 것 같다."
   ]
  },
  {
   "cell_type": "markdown",
   "metadata": {},
   "source": [
    "### 데이터 전처리"
   ]
  },
  {
   "cell_type": "code",
   "execution_count": 12,
   "metadata": {},
   "outputs": [],
   "source": [
    "# 한글 외 텍스트 제거\n",
    "\n",
    "review_removed = list(map(lambda review: re.sub('[^가-힣 ]', '', review), data['review']))\n",
    "data['review'] = review_removed"
   ]
  },
  {
   "cell_type": "code",
   "execution_count": 13,
   "metadata": {},
   "outputs": [],
   "source": [
    "# 데이터 분리 - 4~5점을 긍정, 1~3점을 부정으로 진행\n",
    "\n",
    "review_pos = data[(data['score'] == 4) | (data['score'] == 5)]['review']\n",
    "review_neg = data[(data['score'] == 1) | (data['score'] == 2) | (data['score'] == 3)]['review']"
   ]
  },
  {
   "cell_type": "code",
   "execution_count": 14,
   "metadata": {},
   "outputs": [
    {
     "name": "stdout",
     "output_type": "stream",
     "text": [
      "4870\n",
      "164864\n"
     ]
    }
   ],
   "source": [
    "print(len(review_neg))\n",
    "print(len(review_pos))\n",
    "review_pos = review_pos.sample(5000)\n",
    "\n",
    "# 부정적 리뷰 데이터는 4870건으로, 긍정적 리뷰 데이터는 164864건이다.\n",
    "# test로 긍정적 리뷰는 랜덤으로 5000건만 추출하였다."
   ]
  },
  {
   "cell_type": "code",
   "execution_count": 15,
   "metadata": {},
   "outputs": [],
   "source": [
    "# 토큰화 - kkma로 리뷰에서 명사만 추출\n",
    "\n",
    "from konlpy.tag import Kkma\n",
    "kkma = Kkma()\n",
    "\n",
    "review_tokenized_pos = list(map(lambda review: kkma.nouns(review), review_pos))\n",
    "review_tokenized_neg = list(map(lambda review: kkma.nouns(review), review_neg))\n"
   ]
  },
  {
   "cell_type": "code",
   "execution_count": 16,
   "metadata": {},
   "outputs": [],
   "source": [
    "# 최소 토큰 개수를 3, 최대 토큰 개수를 15로 선별\n",
    "\n",
    "def select_review(reviews):\n",
    "    review_prep = []\n",
    "    for tokens in reviews:\n",
    "        if 3 <= len(tokens) <= 15:\n",
    "            review_prep.append(tokens)\n",
    "    return review_prep"
   ]
  },
  {
   "cell_type": "code",
   "execution_count": 17,
   "metadata": {},
   "outputs": [],
   "source": [
    "review_prep_pos = select_review(review_tokenized_pos)\n",
    "review_prep_neg = select_review(review_tokenized_neg)"
   ]
  },
  {
   "cell_type": "markdown",
   "metadata": {},
   "source": [
    "### 토픽 모델링"
   ]
  },
  {
   "cell_type": "code",
   "execution_count": 56,
   "metadata": {},
   "outputs": [],
   "source": [
    "# 하이퍼파라미터 - 토픽 개수는 10개, 모델 학습 횟수는 15개로 임시 지정\n",
    "\n",
    "NUM_TOPICS = 10\n",
    "PASSES = 15"
   ]
  },
  {
   "cell_type": "code",
   "execution_count": 57,
   "metadata": {},
   "outputs": [],
   "source": [
    "# 모델 학습 함수\n",
    "\n",
    "def lda_modeling(review_prep):\n",
    "    dictionary = corpora.Dictionary(review_prep)\n",
    "    corpus = [dictionary.doc2bow(review) for review in review_prep]\n",
    "    \n",
    "    model = gensim.models.ldamodel.LdaModel(corpus, \n",
    "                                            num_topics = NUM_TOPICS, \n",
    "                                            id2word = dictionary, \n",
    "                                            passes = PASSES)\n",
    "    return model, corpus, dictionary"
   ]
  },
  {
   "cell_type": "code",
   "execution_count": 58,
   "metadata": {},
   "outputs": [],
   "source": [
    "# 토픽별 단어 구성 출력 함수\n",
    "\n",
    "def print_topic_prop(topics, RATING):\n",
    "    topic_values = []\n",
    "    for topic in topics:\n",
    "        topic_value = topic[1]\n",
    "        topic_values.append(topic_value)\n",
    "    topic_prop = pd.DataFrame({\"topic_num\" : list(range(1, NUM_TOPICS + 1)), \"word_prop\": topic_values})\n",
    "    topic_prop.to_excel('topic' + RATING +  '.xlsx')\n",
    "    display(topic_prop)"
   ]
  },
  {
   "cell_type": "code",
   "execution_count": 59,
   "metadata": {},
   "outputs": [],
   "source": [
    "# 긍정적 리뷰 토픽 모델링\n",
    "\n",
    "model, corpus, dictionary = lda_modeling(review_prep_pos)"
   ]
  },
  {
   "cell_type": "code",
   "execution_count": 61,
   "metadata": {},
   "outputs": [
    {
     "data": {
      "text/html": [
       "<div>\n",
       "<style scoped>\n",
       "    .dataframe tbody tr th:only-of-type {\n",
       "        vertical-align: middle;\n",
       "    }\n",
       "\n",
       "    .dataframe tbody tr th {\n",
       "        vertical-align: top;\n",
       "    }\n",
       "\n",
       "    .dataframe thead th {\n",
       "        text-align: right;\n",
       "    }\n",
       "</style>\n",
       "<table border=\"1\" class=\"dataframe\">\n",
       "  <thead>\n",
       "    <tr style=\"text-align: right;\">\n",
       "      <th></th>\n",
       "      <th>topic_num</th>\n",
       "      <th>word_prop</th>\n",
       "    </tr>\n",
       "  </thead>\n",
       "  <tbody>\n",
       "    <tr>\n",
       "      <th>0</th>\n",
       "      <td>1</td>\n",
       "      <td>0.101*\"거\" + 0.031*\"사이즈\" + 0.029*\"여름\" + 0.029*\"...</td>\n",
       "    </tr>\n",
       "    <tr>\n",
       "      <th>1</th>\n",
       "      <td>2</td>\n",
       "      <td>0.034*\"디자인\" + 0.029*\"발\" + 0.028*\"키\" + 0.027*\"신...</td>\n",
       "    </tr>\n",
       "    <tr>\n",
       "      <th>2</th>\n",
       "      <td>3</td>\n",
       "      <td>0.091*\"사이즈\" + 0.065*\"발\" + 0.060*\"정\" + 0.059*\"정...</td>\n",
       "    </tr>\n",
       "    <tr>\n",
       "      <th>3</th>\n",
       "      <td>4</td>\n",
       "      <td>0.043*\"신\" + 0.039*\"사이즈\" + 0.036*\"발\" + 0.033*\"평...</td>\n",
       "    </tr>\n",
       "    <tr>\n",
       "      <th>4</th>\n",
       "      <td>5</td>\n",
       "      <td>0.093*\"배송\" + 0.049*\"신발\" + 0.042*\"만족\" + 0.028*\"...</td>\n",
       "    </tr>\n",
       "    <tr>\n",
       "      <th>5</th>\n",
       "      <td>6</td>\n",
       "      <td>0.045*\"부츠\" + 0.033*\"때\" + 0.033*\"신고\" + 0.030*\"구...</td>\n",
       "    </tr>\n",
       "    <tr>\n",
       "      <th>6</th>\n",
       "      <td>7</td>\n",
       "      <td>0.054*\"색상\" + 0.049*\"거\" + 0.039*\"발가락\" + 0.034*\"...</td>\n",
       "    </tr>\n",
       "    <tr>\n",
       "      <th>7</th>\n",
       "      <td>8</td>\n",
       "      <td>0.061*\"착화\" + 0.035*\"가격\" + 0.031*\"감도\" + 0.029*\"...</td>\n",
       "    </tr>\n",
       "    <tr>\n",
       "      <th>8</th>\n",
       "      <td>9</td>\n",
       "      <td>0.092*\"발\" + 0.052*\"볼\" + 0.047*\"신고\" + 0.040*\"발볼...</td>\n",
       "    </tr>\n",
       "    <tr>\n",
       "      <th>9</th>\n",
       "      <td>10</td>\n",
       "      <td>0.088*\"사이즈\" + 0.064*\"추천\" + 0.054*\"반\" + 0.033*\"...</td>\n",
       "    </tr>\n",
       "  </tbody>\n",
       "</table>\n",
       "</div>"
      ],
      "text/plain": [
       "   topic_num                                          word_prop\n",
       "0          1  0.101*\"거\" + 0.031*\"사이즈\" + 0.029*\"여름\" + 0.029*\"...\n",
       "1          2  0.034*\"디자인\" + 0.029*\"발\" + 0.028*\"키\" + 0.027*\"신...\n",
       "2          3  0.091*\"사이즈\" + 0.065*\"발\" + 0.060*\"정\" + 0.059*\"정...\n",
       "3          4  0.043*\"신\" + 0.039*\"사이즈\" + 0.036*\"발\" + 0.033*\"평...\n",
       "4          5  0.093*\"배송\" + 0.049*\"신발\" + 0.042*\"만족\" + 0.028*\"...\n",
       "5          6  0.045*\"부츠\" + 0.033*\"때\" + 0.033*\"신고\" + 0.030*\"구...\n",
       "6          7  0.054*\"색상\" + 0.049*\"거\" + 0.039*\"발가락\" + 0.034*\"...\n",
       "7          8  0.061*\"착화\" + 0.035*\"가격\" + 0.031*\"감도\" + 0.029*\"...\n",
       "8          9  0.092*\"발\" + 0.052*\"볼\" + 0.047*\"신고\" + 0.040*\"발볼...\n",
       "9         10  0.088*\"사이즈\" + 0.064*\"추천\" + 0.054*\"반\" + 0.033*\"..."
      ]
     },
     "metadata": {},
     "output_type": "display_data"
    }
   ],
   "source": [
    "RATING = 'pos'\n",
    "topics = model.print_topics(num_words = NUM_WORDS)\n",
    "print_topic_prop(topics, RATING)"
   ]
  },
  {
   "cell_type": "code",
   "execution_count": 62,
   "metadata": {},
   "outputs": [],
   "source": [
    "# 부정적 리뷰 토픽 모델링\n",
    "\n",
    "model, corpus, dictionary = lda_modeling(review_prep_neg)"
   ]
  },
  {
   "cell_type": "code",
   "execution_count": 63,
   "metadata": {},
   "outputs": [
    {
     "data": {
      "text/html": [
       "<div>\n",
       "<style scoped>\n",
       "    .dataframe tbody tr th:only-of-type {\n",
       "        vertical-align: middle;\n",
       "    }\n",
       "\n",
       "    .dataframe tbody tr th {\n",
       "        vertical-align: top;\n",
       "    }\n",
       "\n",
       "    .dataframe thead th {\n",
       "        text-align: right;\n",
       "    }\n",
       "</style>\n",
       "<table border=\"1\" class=\"dataframe\">\n",
       "  <thead>\n",
       "    <tr style=\"text-align: right;\">\n",
       "      <th></th>\n",
       "      <th>topic_num</th>\n",
       "      <th>word_prop</th>\n",
       "    </tr>\n",
       "  </thead>\n",
       "  <tbody>\n",
       "    <tr>\n",
       "      <th>0</th>\n",
       "      <td>1</td>\n",
       "      <td>0.076*\"발가락\" + 0.040*\"사이\" + 0.025*\"적응\" + 0.024*...</td>\n",
       "    </tr>\n",
       "    <tr>\n",
       "      <th>1</th>\n",
       "      <td>2</td>\n",
       "      <td>0.033*\"거\" + 0.024*\"착화\" + 0.021*\"배송\" + 0.021*\"디...</td>\n",
       "    </tr>\n",
       "    <tr>\n",
       "      <th>2</th>\n",
       "      <td>3</td>\n",
       "      <td>0.120*\"발\" + 0.056*\"볼\" + 0.049*\"발등\" + 0.046*\"발볼...</td>\n",
       "    </tr>\n",
       "    <tr>\n",
       "      <th>3</th>\n",
       "      <td>4</td>\n",
       "      <td>0.032*\"신고\" + 0.031*\"때\" + 0.022*\"처음\" + 0.021*\"신...</td>\n",
       "    </tr>\n",
       "    <tr>\n",
       "      <th>4</th>\n",
       "      <td>5</td>\n",
       "      <td>0.093*\"사이즈\" + 0.029*\"정\" + 0.026*\"발\" + 0.025*\"정...</td>\n",
       "    </tr>\n",
       "    <tr>\n",
       "      <th>5</th>\n",
       "      <td>6</td>\n",
       "      <td>0.036*\"때\" + 0.028*\"발\" + 0.025*\"신발\" + 0.014*\"디자...</td>\n",
       "    </tr>\n",
       "    <tr>\n",
       "      <th>6</th>\n",
       "      <td>7</td>\n",
       "      <td>0.023*\"교환\" + 0.022*\"불편\" + 0.021*\"때\" + 0.019*\"사...</td>\n",
       "    </tr>\n",
       "    <tr>\n",
       "      <th>7</th>\n",
       "      <td>8</td>\n",
       "      <td>0.030*\"거\" + 0.030*\"가격\" + 0.027*\"대비\" + 0.022*\"가...</td>\n",
       "    </tr>\n",
       "    <tr>\n",
       "      <th>8</th>\n",
       "      <td>9</td>\n",
       "      <td>0.024*\"뒷\" + 0.023*\"마감\" + 0.023*\"꿈\" + 0.019*\"신발...</td>\n",
       "    </tr>\n",
       "    <tr>\n",
       "      <th>9</th>\n",
       "      <td>10</td>\n",
       "      <td>0.047*\"사이즈\" + 0.033*\"생각\" + 0.030*\"불편\" + 0.028*...</td>\n",
       "    </tr>\n",
       "  </tbody>\n",
       "</table>\n",
       "</div>"
      ],
      "text/plain": [
       "   topic_num                                          word_prop\n",
       "0          1  0.076*\"발가락\" + 0.040*\"사이\" + 0.025*\"적응\" + 0.024*...\n",
       "1          2  0.033*\"거\" + 0.024*\"착화\" + 0.021*\"배송\" + 0.021*\"디...\n",
       "2          3  0.120*\"발\" + 0.056*\"볼\" + 0.049*\"발등\" + 0.046*\"발볼...\n",
       "3          4  0.032*\"신고\" + 0.031*\"때\" + 0.022*\"처음\" + 0.021*\"신...\n",
       "4          5  0.093*\"사이즈\" + 0.029*\"정\" + 0.026*\"발\" + 0.025*\"정...\n",
       "5          6  0.036*\"때\" + 0.028*\"발\" + 0.025*\"신발\" + 0.014*\"디자...\n",
       "6          7  0.023*\"교환\" + 0.022*\"불편\" + 0.021*\"때\" + 0.019*\"사...\n",
       "7          8  0.030*\"거\" + 0.030*\"가격\" + 0.027*\"대비\" + 0.022*\"가...\n",
       "8          9  0.024*\"뒷\" + 0.023*\"마감\" + 0.023*\"꿈\" + 0.019*\"신발...\n",
       "9         10  0.047*\"사이즈\" + 0.033*\"생각\" + 0.030*\"불편\" + 0.028*..."
      ]
     },
     "metadata": {},
     "output_type": "display_data"
    }
   ],
   "source": [
    "RATING = 'neg'\n",
    "topics = model.print_topics(num_words = NUM_WORDS)\n",
    "print_topic_prop(topics, RATING)"
   ]
  },
  {
   "cell_type": "markdown",
   "metadata": {},
   "source": [
    "- 긍정적 리뷰의 핵심 주제는 3, 8번 토픽, 부정적 리뷰의 핵심 주제는 1, 3, 9번 토픽에서 드러나는 양상이다.\n",
    "- 긍정-3번 토픽 (사이즈) : 0.091*\"사이즈\" + 0.065*\"발\" + 0.060*\"정\" + 0.059*\"정사이즈\" + 0.021*\"신고\" + 0.021*\"생각\" + 0.020*\"길이\" + 0.020*\"거\" + 0.019*\"신발\" + 0.018*\"편\"\n",
    "- 긍정-8번 토픽 (착화감) : 0.061*\"착화\" + 0.035*\"가격\" + 0.031*\"감도\" + 0.029*\"디자인\" + 0.029*\"착화감도\" + 0.026*\"성비\" + 0.023*\"수\" + 0.022*\"생각\" + 0.022*\"편안\" + 0.020*\"사이즈\"\n",
    "- 부정-1번 토픽 (착화감-발가락 부분) : 0.076*\"발가락\" + 0.040*\"사이\" + 0.025*\"적응\" + 0.024*\"부분\" + 0.021*\"신\" + 0.013*\"가격\" + 0.013*\"엄지\" + 0.012*\"발\" + 0.011*\"교환\" + 0.011*\"신발\"\n",
    "- 부정-3번 토픽 (착화감-발볼 부분) : 0.120*\"발\" + 0.056*\"볼\" + 0.049*\"발등\" + 0.046*\"발볼\" + 0.021*\"불편\" + 0.020*\"착화\" + 0.020*\"거\" + 0.019*\"생각\" + 0.019*\"신발\" + 0.018*\"편\"\n",
    "- 부정-9번 토픽 (착화감-뒷꿈치 부분) : 0.024*\"뒷\" + 0.023*\"마감\" + 0.023*\"꿈\" + 0.019*\"신발\" + 0.018*\"디자인\" + 0.017*\"뒷꿈\" + 0.014*\"무\" + 0.012*\"한데\" + 0.012*\"하나\" + 0.012*\"발등\""
   ]
  },
  {
   "cell_type": "markdown",
   "metadata": {},
   "source": [
    "- 리뷰들 모두 착화감이 가장 중요한 요소로 꼽히지만, 긍정적 리뷰를 남긴 사용자는 착화감에 더불어 본인에게 맞는 사이즈에서 만족감을 느끼고,\n",
    "- 부정적 리뷰를 남긴 사용자는 착화감 중 불편했던 부분을 묘사하는 경향이 있다.\n",
    "- 하지만 전체적으로는 특정 topic을 보여주는 단어의 집합이라 하기엔 아직 부족하다.\n",
    "- 단어 선정(특정 단어 제거)에 대해 좀 더 다양하게 시도해야 할 것 같다."
   ]
  },
  {
   "cell_type": "markdown",
   "metadata": {},
   "source": [
    "- 코드 참고 : https://heytech.tistory.com/401"
   ]
  }
 ],
 "metadata": {
  "kernelspec": {
   "display_name": "Python 3",
   "language": "python",
   "name": "python3"
  },
  "language_info": {
   "codemirror_mode": {
    "name": "ipython",
    "version": 3
   },
   "file_extension": ".py",
   "mimetype": "text/x-python",
   "name": "python",
   "nbconvert_exporter": "python",
   "pygments_lexer": "ipython3",
   "version": "3.8.19"
  }
 },
 "nbformat": 4,
 "nbformat_minor": 2
}
