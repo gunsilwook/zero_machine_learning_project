{
 "cells": [
  {
   "cell_type": "code",
   "execution_count": null,
   "metadata": {},
   "outputs": [
    {
     "ename": "",
     "evalue": "",
     "output_type": "error",
     "traceback": [
      "\u001b[1;31mFailed to start the Kernel 'zerobase (Python 3.10.14)'. \n",
      "\u001b[1;31mView Jupyter <a href='command:jupyter.viewOutput'>log</a> for further details. listen EFAULT: bad address in system call argument 0.0.0.0:9005"
     ]
    }
   ],
   "source": [
    "import matplotlib.pyplot as plt\n",
    "%matplotlib inline\n",
    "from matplotlib import rc\n",
    "rc('font', family = 'Malgun Gothic')\n",
    "rc('axes', unicode_minus = False)\n",
    "\n",
    "import time"
   ]
  },
  {
   "cell_type": "code",
   "execution_count": null,
   "metadata": {},
   "outputs": [
    {
     "ename": "",
     "evalue": "",
     "output_type": "error",
     "traceback": [
      "\u001b[1;31mFailed to start the Kernel 'zerobase (Python 3.10.14)'. \n",
      "\u001b[1;31mView Jupyter <a href='command:jupyter.viewOutput'>log</a> for further details. listen EFAULT: bad address in system call argument 0.0.0.0:9005"
     ]
    }
   ],
   "source": [
    "from selenium import webdriver\n",
    "from selenium.webdriver.common.by import By\n",
    "from selenium.webdriver.support.ui import WebDriverWait\n",
    "from selenium.webdriver.support import expected_conditions as EC\n",
    "import re\n",
    "import pandas as pd\n",
    "from selenium.common.exceptions import NoSuchElementException\n",
    "\n"
   ]
  },
  {
   "cell_type": "code",
   "execution_count": null,
   "metadata": {},
   "outputs": [
    {
     "ename": "",
     "evalue": "",
     "output_type": "error",
     "traceback": [
      "\u001b[1;31mFailed to start the Kernel 'zerobase (Python 3.10.14)'. \n",
      "\u001b[1;31mView Jupyter <a href='command:jupyter.viewOutput'>log</a> for further details. listen EFAULT: bad address in system call argument 0.0.0.0:9005"
     ]
    }
   ],
   "source": [
    "driver =  webdriver.Chrome('./driver/chromedriver.exe')\n",
    "driver.get('https://www.musinsa.com/categories/item/005?d_cat_cd=005&brand=&list_kind=big&sort=pop_category&sub_sort=&page=2&display_cnt=90&exclusive_yn=&sale_goods=&timesale_yn=&ex_soldout=&plusDeliveryYn=&kids=&color=&price1=&price2=&shoeSizeOption=&tags=&campaign_id=&includeKeywords=&measure=')\n",
    "\n",
    "ul_element = driver.find_element(By.CSS_SELECTOR, '#searchList') \n",
    "li_elements = ul_element.find_elements(By.CSS_SELECTOR, 'li')  \n",
    "\n",
    "data_no_list = []\n",
    "for li in li_elements:\n",
    "    data_no = li.get_attribute('data-no') \n",
    "    if data_no != None:\n",
    "        data_no_list.append(data_no)\n",
    "\n",
    "driver.quit()"
   ]
  },
  {
   "cell_type": "code",
   "execution_count": null,
   "metadata": {},
   "outputs": [
    {
     "ename": "",
     "evalue": "",
     "output_type": "error",
     "traceback": [
      "\u001b[1;31mFailed to start the Kernel 'zerobase (Python 3.10.14)'. \n",
      "\u001b[1;31mView Jupyter <a href='command:jupyter.viewOutput'>log</a> for further details. listen EFAULT: bad address in system call argument 0.0.0.0:9005"
     ]
    }
   ],
   "source": [
    "all_df = pd.DataFrame()\n",
    "btn_list = ['#estimate_style', '#estimate_photo', '#estimate_goods']\n",
    "\n",
    "for data_no in data_no_list:\n",
    "    try:\n",
    "        driver =  webdriver.Chrome('./driver/chromedriver.exe')\n",
    "        driver.get('https://www.musinsa.com/app/goods/'+data_no)\n",
    "        driver.fullscreen_window()\n",
    "        \n",
    "        category = driver.find_element(By.CSS_SELECTOR, '#root > div.product-detail__sc-8631sn-0.gJskhq > div.product-detail__sc-8631sn-2.bIfCpH > div.product-detail__sc-up77yl-0.KuCLD > a:nth-child(3)').text\n",
    "        sex = driver.find_element(By.CSS_SELECTOR, '#root > div.product-detail__sc-8631sn-0.gJskhq > div.product-detail__sc-8631sn-1.fPAiGD > div.product-detail__sc-8631sn-4.goIKhx > div.product-detail__sc-achptn-0.bHXxTQ > ul > li:nth-child(2) > div.product-detail__sc-achptn-6.TehCn > span:nth-child(3)').text\n",
    "        price = driver.find_element(By.CSS_SELECTOR, '#root > div.product-detail__sc-8631sn-0.gJskhq > div.product-detail__sc-8631sn-1.fPAiGD > div.product-detail__sc-8631sn-4.goIKhx > div.product-detail__sc-w5wkld-0.hgCYZm > div.product-detail__sc-1p1ulhg-0.jEclp > ul > li:nth-child(1) > div.product-detail__sc-1p1ulhg-6.fKNtEN > span').text\n",
    "        price = price.replace(',','').replace('원','').replace(' ','')\n",
    "\n",
    "        for btn in btn_list:\n",
    "            review_btn = driver.find_element(By.CSS_SELECTOR, btn)\n",
    "            review_btn.click()\n",
    "            time.sleep(3)\n",
    "\n",
    "            texts = driver.find_element(By.CSS_SELECTOR, '#reviewListFragment > div.nslist_bottom > div.box_page_msg')\n",
    "            text = texts.text\n",
    "            page_str = text[0:text.find('페')]\n",
    "            page_str = page_str.replace(' ','')\n",
    "            page_cnt = int(page_str)\n",
    "            print(f'max page {btn} - {page_cnt}')\n",
    "\n",
    "            data = []\n",
    "\n",
    "            for num in range(page_cnt):\n",
    "\n",
    "                print('current page:',num+1)\n",
    "                n = num % 5 \n",
    "                page_btn_lists = driver.find_element(By.CSS_SELECTOR, '#reviewListFragment > div.nslist_bottom > div.pagination.textRight > div') \n",
    "                page_btn = page_btn_lists.find_elements(By.CSS_SELECTOR, 'a') \n",
    "                page_btn[n+2].click()\n",
    "                time.sleep(3)\n",
    "\n",
    "                review_lists = driver.find_element(By.CSS_SELECTOR, '#reviewListFragment') \n",
    "                review_list = review_lists.find_elements(By.CSS_SELECTOR, 'div.review-list')  \n",
    "\n",
    "                for review in review_list:\n",
    "                    name = review.find_element(By.CSS_SELECTOR, \"div.review-profile > div > div.review-profile__text > p.review-profile__name\").text\n",
    "                    date = review.find_element(By.CSS_SELECTOR, \"div.review-profile > div > div.review-profile__text > p.review-profile__date\").text\n",
    "                    product = review.find_element(By.CSS_SELECTOR, \"div.review-goods-information > div.review-goods-information__item > a\").text\n",
    "                    option = review.find_element(By.CSS_SELECTOR, \"div.review-goods-information > div.review-goods-information__item > p > span\").text\n",
    "                    score_str = review.find_element(By.CSS_SELECTOR, \"div.review-list__rating-wrap > span > span > span\").get_attribute('style')\n",
    "                    score = int(re.search(r'width:\\s*(\\d+)%;', score_str).group(1))/20\n",
    "                    review_text = review.find_element(By.CSS_SELECTOR, \"div.review-contents > div.review-contents__text\").text\n",
    "                    help_cnt = review.find_element(By.CSS_SELECTOR, \"div.review-evaluation-button--type3 > ul > li:nth-child(1) > label > span\").text\n",
    "\n",
    "                    if btn == '#estimate_style': \n",
    "                        style_cnt = review.find_element(By.CSS_SELECTOR, \"div.review-evaluation-button--type3 > ul > li:nth-child(2) > label > span\").text\n",
    "                        review_type = 'style'\n",
    "                    elif btn == '#estimate_photo':\n",
    "                        style_cnt =  None\n",
    "                        review_type = 'product'\n",
    "                    else:\n",
    "                        style_cnt =  None\n",
    "                        review_type = 'general '\n",
    "                    \n",
    "                    #reviewListFragment > div:nth-child(1) > div.review-contents > div.review-evaluation--type3 > ul > li:nth-child(1)\n",
    "                    tag_lists = review.find_element(By.CSS_SELECTOR, \"div.review-contents > div.review-evaluation--type3 > ul\")\n",
    "                    tag_list = tag_lists.find_elements(By.CSS_SELECTOR, 'li.review-evaluation--type3__item')\n",
    "                    tags = ''\n",
    "                    \n",
    "                    for tag in tag_list:\n",
    "                        tags = tags + tag.text.replace('\\n','-') +', '\n",
    "                    tags = tags[:len(tags)-2]\n",
    "\n",
    "                    data.append({\n",
    "                        \"name\": name,\n",
    "                        \"date\": date,\n",
    "                        \"product\": product,\n",
    "                        \"detail\": option,\n",
    "                        \"score\": score,\n",
    "                        \"review\": review_text,\n",
    "                        \"help_cnt\": help_cnt,\n",
    "                        \"style_cnt\": style_cnt,\n",
    "                        \"type\": review_type,\n",
    "                        \"category\": category,\n",
    "                        \"sex\": sex,\n",
    "                        \"price\": price,\n",
    "                        \"tag\": tags\n",
    "                    })\n",
    "\n",
    "                if num % 5 == 4:\n",
    "                    next_btn = driver.find_element(By.CSS_SELECTOR,'#reviewListFragment > div.nslist_bottom > div.pagination.textRight > div > a.fa.fa-angle-right.paging-btn.btn.next')\n",
    "                    next_btn.click()\n",
    "                    time.sleep(3)\n",
    "\n",
    "            df = pd.DataFrame(data)\n",
    "            all_df = pd.concat([all_df,df])\n",
    "\n",
    "        driver.quit()\n",
    "    except NoSuchElementException as e:\n",
    "        print(f\"An error occurred: {e}\")\n",
    "        driver.quit()\n",
    "        continue"
   ]
  },
  {
   "cell_type": "code",
   "execution_count": null,
   "metadata": {},
   "outputs": [
    {
     "ename": "",
     "evalue": "",
     "output_type": "error",
     "traceback": [
      "\u001b[1;31mFailed to start the Kernel 'zerobase (Python 3.10.14)'. \n",
      "\u001b[1;31mView Jupyter <a href='command:jupyter.viewOutput'>log</a> for further details. listen EFAULT: bad address in system call argument 0.0.0.0:9005"
     ]
    }
   ],
   "source": [
    "all_df"
   ]
  },
  {
   "cell_type": "code",
   "execution_count": null,
   "metadata": {},
   "outputs": [
    {
     "ename": "",
     "evalue": "",
     "output_type": "error",
     "traceback": [
      "\u001b[1;31mFailed to start the Kernel 'zerobase (Python 3.10.14)'. \n",
      "\u001b[1;31mView Jupyter <a href='command:jupyter.viewOutput'>log</a> for further details. listen EFAULT: bad address in system call argument 0.0.0.0:9005"
     ]
    }
   ],
   "source": [
    "all_df.to_csv('./test2.csv', encoding='euc-kr')"
   ]
  }
 ],
 "metadata": {
  "kernelspec": {
   "display_name": "zerobase",
   "language": "python",
   "name": "python3"
  },
  "language_info": {
   "codemirror_mode": {
    "name": "ipython",
    "version": 3
   },
   "file_extension": ".py",
   "mimetype": "text/x-python",
   "name": "python",
   "nbconvert_exporter": "python",
   "pygments_lexer": "ipython3",
   "version": "3.10.14"
  }
 },
 "nbformat": 4,
 "nbformat_minor": 2
}
